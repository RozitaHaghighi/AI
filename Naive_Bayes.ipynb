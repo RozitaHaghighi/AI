{
  "nbformat": 4,
  "nbformat_minor": 0,
  "metadata": {
    "colab": {
      "provenance": []
    },
    "kernelspec": {
      "name": "python3",
      "display_name": "Python 3"
    },
    "language_info": {
      "name": "python"
    }
  },
  "cells": [
    {
      "cell_type": "markdown",
      "source": [
        "Part b"
      ],
      "metadata": {
        "id": "4_x_ABmkEHLH"
      }
    },
    {
      "cell_type": "code",
      "source": [
        "import numpy as np\n",
        "from sklearn.naive_bayes import CategoricalNB\n",
        "from sklearn.preprocessing import LabelEncoder\n",
        "\n",
        "# Data (X) and labels (y)\n",
        "data = [\n",
        "    ['Red', 'Sports', 'Domestic'],\n",
        "    ['Red', 'Sports', 'Domestic'],\n",
        "    ['Red', 'Sports', 'Domestic'],\n",
        "    ['Yellow', 'Sports', 'Domestic'],\n",
        "    ['Yellow', 'Sports', 'Imported'],\n",
        "    ['Yellow', 'SUV', 'Imported'],\n",
        "    ['Yellow', 'SUV', 'Imported'],\n",
        "    ['Yellow', 'SUV', 'Domestic'],\n",
        "    ['Red', 'SUV', 'Imported'],\n",
        "    ['Red', 'Sports', 'Imported']\n",
        "]\n",
        "\n",
        "labels = ['Yes', 'No', 'Yes', 'No', 'Yes', 'No', 'Yes', 'No', 'No', 'Yes']\n",
        "\n",
        "# Encode categorical data into numerical format\n",
        "le_color = LabelEncoder()\n",
        "le_type = LabelEncoder()\n",
        "le_origin = LabelEncoder()\n",
        "\n",
        "color_encoded = le_color.fit_transform([row[0] for row in data])\n",
        "type_encoded = le_type.fit_transform([row[1] for row in data])\n",
        "origin_encoded = le_origin.fit_transform([row[2] for row in data])\n",
        "\n",
        "# Combine encoded features\n",
        "X = np.array([color_encoded, type_encoded, origin_encoded]).T\n",
        "\n",
        "# Fit LabelEncoder for the target labels\n",
        "le_labels = LabelEncoder()\n",
        "y = le_labels.fit_transform(labels)\n",
        "\n",
        "# Train the Naive Bayes classifier\n",
        "model = CategoricalNB()\n",
        "model.fit(X, y)\n",
        "\n",
        "# Predict for Red Domestic SUV\n",
        "red_suv_domestic = np.array([[le_color.transform(['Red'])[0], le_type.transform(['SUV'])[0], le_origin.transform(['Domestic'])[0]]])\n",
        "prediction = model.predict(red_suv_domestic)\n",
        "\n",
        "# Use the fitted LabelEncoder to transform the numeric prediction back to the string label\n",
        "predicted_label = le_labels.inverse_transform(prediction)\n",
        "print(f\"Predicted class for Red Domestic SUV: {predicted_label[0]}\")\n"
      ],
      "metadata": {
        "colab": {
          "base_uri": "https://localhost:8080/"
        },
        "id": "l9QfPWCwyP6F",
        "outputId": "8241f07a-fb84-492e-cff5-f7f2df8d165e"
      },
      "execution_count": null,
      "outputs": [
        {
          "output_type": "stream",
          "name": "stdout",
          "text": [
            "Predicted class for Red Domestic SUV: No\n"
          ]
        }
      ]
    }
  ]
}